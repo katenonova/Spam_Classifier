{
 "cells": [
  {
   "cell_type": "markdown",
   "metadata": {},
   "source": [
    "## Project name:  Spam or Ham Classifier\n",
    "### Project author: Kate Nonova\n",
    "\n",
    "#### Project problem: \n",
    "We all face the problem of spams in our inboxes. Spam email is unsolicited and unwanted junk email sent out in bulk to an indiscriminate recipient list. Typically, spam is sent for commercial purposes. It can be sent in massive volume by botnets, networks of infected computers. While some people view it as unethical, many businesses still use spam. The cost per email is incredibly low, and businesses can send out mass quantities consistently. Spam email can also be a malicious attempt to gain access to your computer.\n",
    "\n",
    "#### Project solution:\n",
    "The goal here is to identify whether an email is spam or ham. We will take a dataset of labeled email messages and apply classification techniques. We can later test the model for accuracy and performance on unclassified email messages.\n",
    "\n",
    "#### Paper: \n",
    "http://www.ijstr.org/final-print/mar2020/Mobile-Sms-Spam-Filter-Techniques-Using-Machine-Learning-Techniques.pdf"
   ]
  },
  {
   "cell_type": "code",
   "execution_count": 1,
   "metadata": {},
   "outputs": [],
   "source": [
    "%matplotlib inline"
   ]
  },
  {
   "cell_type": "code",
   "execution_count": 2,
   "metadata": {},
   "outputs": [],
   "source": [
    "import matplotlib.pyplot as plt\n",
    "import numpy as np\n",
    "import pandas as pd\n",
    "import seaborn as sea\n",
    "import string\n",
    "\n",
    "from collections import Counter\n",
    "from sklearn.feature_extraction.text import CountVectorizer,TfidfVectorizer\n",
    "from sklearn.linear_model import LogisticRegression\n",
    "from sklearn.metrics import accuracy_score, confusion_matrix, plot_confusion_matrix, plot_roc_curve, roc_auc_score\n",
    "from sklearn.model_selection import cross_val_score, GridSearchCV, train_test_split\n",
    "from sklearn.naive_bayes import MultinomialNB\n",
    "from sklearn.neighbors import KNeighborsClassifier\n",
    "from sklearn.svm import SVC\n",
    "from sklearn.tree import DecisionTreeClassifier\n",
    "from scipy.sparse import csr_matrix, hstack"
   ]
  },
  {
   "cell_type": "markdown",
   "metadata": {},
   "source": [
    "### Dataset\n",
    "\n",
    "The SMS Spam Collection is a set of SMS tagged messages that have been collected for SMS Spam research. \n",
    "\n",
    "The data is downloadable from Kaggle, https://www.kaggle.com/uciml/sms-spam-collection-dataset\n",
    "\n",
    "The dataset has 5 572 records. There are 11 fields where \"Label\" is the target variable - spam or ham.\n",
    "\n",
    "\n",
    "\n"
   ]
  },
  {
   "cell_type": "markdown",
   "metadata": {},
   "source": [
    "### Read and analyze the data\n",
    "\n",
    "Load a dataset from the local file"
   ]
  },
  {
   "cell_type": "code",
   "execution_count": 3,
   "metadata": {},
   "outputs": [],
   "source": [
    "sms_data = pd.read_csv(r\"C:\\Kate\\AI_Research\\SpamClassifier\\smsspamcollection\\SMSSpamCollection\", sep='\\t', header=None, names=['Label', 'SMS'])"
   ]
  },
  {
   "cell_type": "code",
   "execution_count": 4,
   "metadata": {},
   "outputs": [
    {
     "data": {
      "text/html": [
       "<div>\n",
       "<style scoped>\n",
       "    .dataframe tbody tr th:only-of-type {\n",
       "        vertical-align: middle;\n",
       "    }\n",
       "\n",
       "    .dataframe tbody tr th {\n",
       "        vertical-align: top;\n",
       "    }\n",
       "\n",
       "    .dataframe thead th {\n",
       "        text-align: right;\n",
       "    }\n",
       "</style>\n",
       "<table border=\"1\" class=\"dataframe\">\n",
       "  <thead>\n",
       "    <tr style=\"text-align: right;\">\n",
       "      <th></th>\n",
       "      <th>label</th>\n",
       "      <th>sms</th>\n",
       "    </tr>\n",
       "  </thead>\n",
       "  <tbody>\n",
       "    <tr>\n",
       "      <th>0</th>\n",
       "      <td>ham</td>\n",
       "      <td>Go until jurong point, crazy.. Available only ...</td>\n",
       "    </tr>\n",
       "    <tr>\n",
       "      <th>1</th>\n",
       "      <td>ham</td>\n",
       "      <td>Ok lar... Joking wif u oni...</td>\n",
       "    </tr>\n",
       "    <tr>\n",
       "      <th>2</th>\n",
       "      <td>spam</td>\n",
       "      <td>Free entry in 2 a wkly comp to win FA Cup fina...</td>\n",
       "    </tr>\n",
       "    <tr>\n",
       "      <th>3</th>\n",
       "      <td>ham</td>\n",
       "      <td>U dun say so early hor... U c already then say...</td>\n",
       "    </tr>\n",
       "    <tr>\n",
       "      <th>4</th>\n",
       "      <td>ham</td>\n",
       "      <td>Nah I don't think he goes to usf, he lives aro...</td>\n",
       "    </tr>\n",
       "  </tbody>\n",
       "</table>\n",
       "</div>"
      ],
      "text/plain": [
       "  label                                                sms\n",
       "0   ham  Go until jurong point, crazy.. Available only ...\n",
       "1   ham                      Ok lar... Joking wif u oni...\n",
       "2  spam  Free entry in 2 a wkly comp to win FA Cup fina...\n",
       "3   ham  U dun say so early hor... U c already then say...\n",
       "4   ham  Nah I don't think he goes to usf, he lives aro..."
      ]
     },
     "execution_count": 4,
     "metadata": {},
     "output_type": "execute_result"
    }
   ],
   "source": [
    "sms_data.columns = ['label', 'sms']\n",
    "sms_data.head()"
   ]
  },
  {
   "cell_type": "code",
   "execution_count": 5,
   "metadata": {},
   "outputs": [
    {
     "name": "stdout",
     "output_type": "stream",
     "text": [
      "<class 'pandas.core.frame.DataFrame'>\n",
      "RangeIndex: 5572 entries, 0 to 5571\n",
      "Data columns (total 2 columns):\n",
      " #   Column  Non-Null Count  Dtype \n",
      "---  ------  --------------  ----- \n",
      " 0   label   5572 non-null   object\n",
      " 1   sms     5572 non-null   object\n",
      "dtypes: object(2)\n",
      "memory usage: 87.2+ KB\n"
     ]
    }
   ],
   "source": [
    "sms_data.info()"
   ]
  },
  {
   "cell_type": "markdown",
   "metadata": {},
   "source": [
    "### Distribution Analysis"
   ]
  },
  {
   "cell_type": "code",
   "execution_count": 6,
   "metadata": {},
   "outputs": [
    {
     "data": {
      "text/plain": [
       "ham     4825\n",
       "spam     747\n",
       "Name: label, dtype: int64"
      ]
     },
     "execution_count": 6,
     "metadata": {},
     "output_type": "execute_result"
    }
   ],
   "source": [
    "sms_data[\"label\"].value_counts()"
   ]
  },
  {
   "cell_type": "markdown",
   "metadata": {},
   "source": [
    "The dataset is unbalanced"
   ]
  },
  {
   "cell_type": "code",
   "execution_count": 7,
   "metadata": {},
   "outputs": [
    {
     "name": "stderr",
     "output_type": "stream",
     "text": [
      "C:\\Users\\KateNonova\\.conda\\envs\\tensorflow_gpuenv\\lib\\site-packages\\seaborn\\_decorators.py:36: FutureWarning: Pass the following variable as a keyword arg: x. From version 0.12, the only valid positional argument will be `data`, and passing other arguments without an explicit keyword will result in an error or misinterpretation.\n",
      "  warnings.warn(\n"
     ]
    },
    {
     "data": {
      "text/plain": [
       "Text(0.5, 1.0, 'No. of ham and spam messages')"
      ]
     },
     "execution_count": 7,
     "metadata": {},
     "output_type": "execute_result"
    },
    {
     "data": {
      "image/png": "[encoded data removed]",
      "text/plain": [
       "<Figure size 432x288 with 1 Axes>"
      ]
     },
     "metadata": {
      "needs_background": "light"
     },
     "output_type": "display_data"
    }
   ],
   "source": [
    "sea.countplot(sms_data.label)\n",
    "plt.xlabel('Label')\n",
    "plt.title('No. of ham and spam messages')"
   ]
  },
  {
   "cell_type": "markdown",
   "metadata": {},
   "source": [
    "Let's look at the length of text to see whether it can predict for spam."
   ]
  },
  {
   "cell_type": "code",
   "execution_count": 8,
   "metadata": {},
   "outputs": [],
   "source": [
    "sms_data['sms_length'] = sms_data['sms'].apply(len)"
   ]
  },
  {
   "cell_type": "code",
   "execution_count": 9,
   "metadata": {},
   "outputs": [
    {
     "data": {
      "text/html": [
       "<div>\n",
       "<style scoped>\n",
       "    .dataframe tbody tr th:only-of-type {\n",
       "        vertical-align: middle;\n",
       "    }\n",
       "\n",
       "    .dataframe tbody tr th {\n",
       "        vertical-align: top;\n",
       "    }\n",
       "\n",
       "    .dataframe thead th {\n",
       "        text-align: right;\n",
       "    }\n",
       "</style>\n",
       "<table border=\"1\" class=\"dataframe\">\n",
       "  <thead>\n",
       "    <tr style=\"text-align: right;\">\n",
       "      <th></th>\n",
       "      <th>label</th>\n",
       "      <th>sms</th>\n",
       "      <th>sms_length</th>\n",
       "    </tr>\n",
       "  </thead>\n",
       "  <tbody>\n",
       "    <tr>\n",
       "      <th>0</th>\n",
       "      <td>ham</td>\n",
       "      <td>Go until jurong point, crazy.. Available only ...</td>\n",
       "      <td>111</td>\n",
       "    </tr>\n",
       "    <tr>\n",
       "      <th>1</th>\n",
       "      <td>ham</td>\n",
       "      <td>Ok lar... Joking wif u oni...</td>\n",
       "      <td>29</td>\n",
       "    </tr>\n",
       "    <tr>\n",
       "      <th>2</th>\n",
       "      <td>spam</td>\n",
       "      <td>Free entry in 2 a wkly comp to win FA Cup fina...</td>\n",
       "      <td>155</td>\n",
       "    </tr>\n",
       "    <tr>\n",
       "      <th>3</th>\n",
       "      <td>ham</td>\n",
       "      <td>U dun say so early hor... U c already then say...</td>\n",
       "      <td>49</td>\n",
       "    </tr>\n",
       "    <tr>\n",
       "      <th>4</th>\n",
       "      <td>ham</td>\n",
       "      <td>Nah I don't think he goes to usf, he lives aro...</td>\n",
       "      <td>61</td>\n",
       "    </tr>\n",
       "    <tr>\n",
       "      <th>...</th>\n",
       "      <td>...</td>\n",
       "      <td>...</td>\n",
       "      <td>...</td>\n",
       "    </tr>\n",
       "    <tr>\n",
       "      <th>5567</th>\n",
       "      <td>spam</td>\n",
       "      <td>This is the 2nd time we have tried 2 contact u...</td>\n",
       "      <td>160</td>\n",
       "    </tr>\n",
       "    <tr>\n",
       "      <th>5568</th>\n",
       "      <td>ham</td>\n",
       "      <td>Will ü b going to esplanade fr home?</td>\n",
       "      <td>36</td>\n",
       "    </tr>\n",
       "    <tr>\n",
       "      <th>5569</th>\n",
       "      <td>ham</td>\n",
       "      <td>Pity, * was in mood for that. So...any other s...</td>\n",
       "      <td>57</td>\n",
       "    </tr>\n",
       "    <tr>\n",
       "      <th>5570</th>\n",
       "      <td>ham</td>\n",
       "      <td>The guy did some bitching but I acted like i'd...</td>\n",
       "      <td>125</td>\n",
       "    </tr>\n",
       "    <tr>\n",
       "      <th>5571</th>\n",
       "      <td>ham</td>\n",
       "      <td>Rofl. Its true to its name</td>\n",
       "      <td>26</td>\n",
       "    </tr>\n",
       "  </tbody>\n",
       "</table>\n",
       "<p>5572 rows × 3 columns</p>\n",
       "</div>"
      ],
      "text/plain": [
       "     label                                                sms  sms_length\n",
       "0      ham  Go until jurong point, crazy.. Available only ...         111\n",
       "1      ham                      Ok lar... Joking wif u oni...          29\n",
       "2     spam  Free entry in 2 a wkly comp to win FA Cup fina...         155\n",
       "3      ham  U dun say so early hor... U c already then say...          49\n",
       "4      ham  Nah I don't think he goes to usf, he lives aro...          61\n",
       "...    ...                                                ...         ...\n",
       "5567  spam  This is the 2nd time we have tried 2 contact u...         160\n",
       "5568   ham               Will ü b going to esplanade fr home?          36\n",
       "5569   ham  Pity, * was in mood for that. So...any other s...          57\n",
       "5570   ham  The guy did some bitching but I acted like i'd...         125\n",
       "5571   ham                         Rofl. Its true to its name          26\n",
       "\n",
       "[5572 rows x 3 columns]"
      ]
     },
     "execution_count": 9,
     "metadata": {},
     "output_type": "execute_result"
    }
   ],
   "source": [
    "sms_data"
   ]
  },
  {
   "cell_type": "code",
   "execution_count": 10,
   "metadata": {},
   "outputs": [
    {
     "name": "stdout",
     "output_type": "stream",
     "text": [
      "Average sms length:  80.48994974874371\n",
      "Average spam sms length:  138.6706827309237\n",
      "Average ham sms length:  71.48248704663213\n"
     ]
    }
   ],
   "source": [
    "print('Average sms length: ',sms_data['sms_length'].mean())\n",
    "print('Average spam sms length: ', sms_data.loc[sms_data['label'] == 'spam']['sms_length'].mean())\n",
    "print('Average ham sms length: ',  sms_data.loc[sms_data['label'] == 'ham']['sms_length'].mean())"
   ]
  },
  {
   "cell_type": "code",
   "execution_count": 11,
   "metadata": {},
   "outputs": [
    {
     "data": {
      "text/plain": [
       "Text(0.5, 6.79999999999999, 'Length of Text')"
      ]
     },
     "execution_count": 11,
     "metadata": {},
     "output_type": "execute_result"
    },
    {
     "data": {
      "text/plain": [
       "<Figure size 720x576 with 0 Axes>"
      ]
     },
     "metadata": {},
     "output_type": "display_data"
    },
    {
     "data": {
      "image/png": "[encoded data removed]",
      "text/plain": [
       "<Figure size 423.25x360 with 1 Axes>"
      ]
     },
     "metadata": {
      "needs_background": "light"
     },
     "output_type": "display_data"
    }
   ],
   "source": [
    "plt.figure(figsize=(10,8))\n",
    "sea.displot(sms_data, x=\"sms_length\", hue=\"label\", kind=\"kde\", fill=True)\n",
    "plt.xlim(-1,250)\n",
    "plt.title('Distribution of spam vs ham')\n",
    "plt.ylabel('Normalized Frequency')\n",
    "plt.xlabel('Length of Text')"
   ]
  },
  {
   "cell_type": "code",
   "execution_count": 12,
   "metadata": {},
   "outputs": [
    {
     "data": {
      "text/plain": [
       "Text(0.5, 0, 'Length of Text')"
      ]
     },
     "execution_count": 12,
     "metadata": {},
     "output_type": "execute_result"
    },
    {
     "data": {
      "image/png": "[encoded data removed]",
      "text/plain": [
       "<Figure size 720x576 with 1 Axes>"
      ]
     },
     "metadata": {
      "needs_background": "light"
     },
     "output_type": "display_data"
    }
   ],
   "source": [
    "plt.figure(figsize=(10,8))\n",
    "sea.histplot(data=sms_data, x='sms_length',hue='label',stat=\"density\", common_norm=False)\n",
    "plt.xlim(-1,250)\n",
    "plt.title('Distribution of spam vs ham')\n",
    "plt.ylabel('Normalized Frequency')\n",
    "plt.xlabel('Length of Text')"
   ]
  },
  {
   "cell_type": "markdown",
   "metadata": {},
   "source": [
    "Let's see is there any difference between spam message length and ham message lenght"
   ]
  },
  {
   "cell_type": "code",
   "execution_count": 13,
   "metadata": {},
   "outputs": [],
   "source": [
    "new_df_col = {'label':[], 'sms':[], 'sms_length':[]}\n",
    "new_sms_data = pd.DataFrame(data=new_df_col)\n",
    "new_sms_data['sms'] = sms_data['sms'].str.split()\n",
    "new_sms_data['label'] = sms_data['label']\n",
    "\n",
    "vocabulary = []\n",
    "vocabularySpam = []\n",
    "vocabularyHam = []\n",
    "\n",
    "for sms in new_sms_data['sms']:\n",
    "    for word in sms:\n",
    "        if(word == 'sms'or word =='the' or word == 'this' or word == 'that' or word == 'and'):\n",
    "            continue\n",
    "        if(len(word) <= 2):\n",
    "            continue\n",
    "        vocabulary.append(word)\n",
    "\n",
    "# ham\n",
    "for sms in new_sms_data.loc[new_sms_data['label'] == 'ham']['sms']:\n",
    "    for word in sms:\n",
    "        if(word == 'sms'or word =='the' or word == 'this' or word == 'that' or word == 'and'):\n",
    "            continue\n",
    "        if(len(word) <= 2):\n",
    "            continue\n",
    "        vocabularyHam.append(word)\n",
    "\n",
    "# spam\n",
    "for sms in new_sms_data.loc[new_sms_data['label'] == 'spam']['sms']:\n",
    "    for word in sms:\n",
    "        if(word == 'sms'or word =='the' or word == 'this' or word == 'that' or word == 'and'):\n",
    "            continue\n",
    "        if(len(word) <= 2):\n",
    "            continue\n",
    "        vocabularySpam.append(word)"
   ]
  },
  {
   "cell_type": "code",
   "execution_count": 14,
   "metadata": {},
   "outputs": [],
   "source": [
    "# sms_data.loc[sms_data['label'] == 1]['sms']"
   ]
  },
  {
   "cell_type": "code",
   "execution_count": 15,
   "metadata": {},
   "outputs": [],
   "source": [
    "full_vocabulary = Counter(vocabulary)\n",
    "spam_vocabulary = Counter(vocabularySpam)\n",
    "ham_vocabulary = Counter(vocabularyHam)\n"
   ]
  },
  {
   "cell_type": "code",
   "execution_count": 16,
   "metadata": {},
   "outputs": [
    {
     "name": "stdout",
     "output_type": "stream",
     "text": [
      "[('you', 1626), ('for', 650), ('your', 561), ('have', 477), ('are', 397), ('call', 376), ('with', 351), ('not', 344), ('will', 333), ('get', 326), ('can', 304), (\"I'm\", 286), ('but', 284), ('&lt;#&gt;', 276), ('You', 263), ('from', 256), ('just', 238), ('when', 234), ('like', 224), ('know', 224), ('all', 218), ('out', 207), ('got', 204), ('was', 200), ('come', 199), ('now', 190), ('...', 163), ('want', 158), ('Call', 155), ('time', 154), ('about', 150), ('send', 150), ('only', 147), ('then', 146), ('what', 143), ('going', 142), ('need', 142), (\"I'll\", 138), ('How', 137), ('still', 135), ('one', 133), ('But', 131), ('its', 129), ('our', 126), ('text', 126), ('been', 121), ('Just', 119), ('there', 118), ('some', 114), ('has', 114)]\n"
     ]
    }
   ],
   "source": [
    "print(full_vocabulary.most_common(50))"
   ]
  },
  {
   "cell_type": "code",
   "execution_count": 17,
   "metadata": {},
   "outputs": [
    {
     "name": "stdout",
     "output_type": "stream",
     "text": [
      "[('you', 1462), ('for', 481), ('your', 374), ('have', 349), ('not', 324), ('are', 320), ('will', 294), ('get', 281), ('can', 279), (\"I'm\", 278), ('but', 277), ('&lt;#&gt;', 276), ('with', 250), ('when', 225), ('like', 211), ('know', 202), ('got', 200), ('come', 198), ('all', 193), ('was', 191), ('call', 191), ('just', 190), ('You', 186), ('out', 167), ('...', 162), ('about', 143), ('want', 142), ('going', 141), ('from', 140), ('then', 138), (\"I'll\", 138), ('time', 138), ('need', 136), ('How', 132), ('But', 131), ('what', 131), ('still', 129), ('one', 128), ('now', 126), ('its', 125), ('think', 112), ('good', 110), ('there', 109), ('how', 109), ('love', 108), ('some', 108), (\"don't\", 106), ('home', 106), ('see', 106), ('send', 104), ('only', 102), ('day', 99), ('What', 98), ('And', 98), ('her', 94), ('dont', 94), ('back', 92), ('tell', 91), (\"i'm\", 91), ('me.', 90), ('Just', 89), ('him', 89), ('take', 88), ('later', 87), ('any', 87), ('she', 85), ('&amp;', 84), ('has', 83), ('give', 83), ('ask', 82), ('much', 82), ('make', 79), ('they', 79), ('been', 78), ('Are', 78), ('Have', 78), ('way', 75), ('had', 75), ('you.', 74), ('The', 74), ('should', 74), ('Hey', 73), ('say', 72), ('here', 71), ('great', 70), ('more', 70), ('Can', 70), ('now.', 70), ('Its', 69), ('them', 69), ('really', 68), ('too', 68), ('lor.', 67), ('meet', 66), ('very', 66), ('after', 66), ('said', 65), ('would', 65), ('Good', 65), ('doing', 64)]\n"
     ]
    }
   ],
   "source": [
    "print(ham_vocabulary.most_common(100))"
   ]
  },
  {
   "cell_type": "code",
   "execution_count": 18,
   "metadata": {},
   "outputs": [
    {
     "name": "stdout",
     "output_type": "stream",
     "text": [
      "[('your', 187), ('call', 185), ('for', 169), ('you', 164), ('Call', 136), ('have', 128), ('from', 116), ('with', 101), ('FREE', 89), ('mobile', 81), ('You', 77), ('are', 77), ('our', 76), ('claim', 73), ('Your', 71), ('txt', 68), ('text', 68), ('now', 64), ('Txt', 63), ('reply', 58), ('free', 56), ('contact', 56), ('now!', 49), ('just', 48), ('send', 46), ('won', 45), ('get', 45), ('only', 45), ('Nokia', 45), ('prize', 44), ('per', 44), ('STOP', 44), ('been', 43), ('service', 43), ('who', 43), ('Reply', 42), ('new', 42), ('cash', 42), ('out', 40), ('Text', 39), ('will', 39), ('This', 39), ('stop', 38), ('awarded', 37), ('Free', 35), ('Please', 34), ('£1000', 33), ('draw', 33), ('URGENT!', 32), ('Get', 32), ('every', 32), ('shows', 31), ('has', 31), ('receive', 30), ('customer', 30), ('Claim', 30), ('week', 30), ('Just', 30), ('win', 28), ('Mobile', 28), ('150ppm', 28), ('number', 28), ('phone', 27), ('latest', 26), ('1st', 26), ('entry', 25), ('selected', 25), ('all', 25), ('guaranteed', 25), ('can', 25), ('any', 24), ('For', 24), ('Box', 23), ('500', 23), ('The', 22), ('16+', 22), ('know', 22), ('£100', 22), ('network', 21), ('message', 21), ('NOW', 21), ('Holiday', 21), ('attempt', 21), ('CALL', 21), ('8007', 21), ('Valid', 20), ('not', 20), ('£2000', 20), ('Send', 20), ('weekly', 20), ('2nd', 20), ('WON', 19), ('£5000', 19), ('GUARANTEED.', 19), ('86688', 19), ('150p', 19), ('back', 19), ('tone', 19), ('chance', 19), ('T&Cs', 19)]\n"
     ]
    }
   ],
   "source": [
    "print(spam_vocabulary.most_common(100))"
   ]
  },
  {
   "cell_type": "code",
   "execution_count": 19,
   "metadata": {},
   "outputs": [
    {
     "name": "stdout",
     "output_type": "stream",
     "text": [
      "15120\n"
     ]
    }
   ],
   "source": [
    "vocabulary = list(set(vocabulary))\n",
    "print(len(vocabulary))"
   ]
  },
  {
   "cell_type": "markdown",
   "metadata": {},
   "source": [
    "### Clean data: \n",
    "\n",
    "Creating a function that will delete all the punctuation in the messages\n"
   ]
  },
  {
   "cell_type": "code",
   "execution_count": 20,
   "metadata": {},
   "outputs": [],
   "source": [
    "def remove_punctuation(text):\n",
    "    punctuations = '''!()-[]{};:'\"\\,<>./?@#$%^&*_~'''\n",
    "    no_punct = \"\"\n",
    "    for char in text:\n",
    "        if char not in punctuations:\n",
    "            no_punct = no_punct + char\n",
    "\n",
    "    return no_punct"
   ]
  },
  {
   "cell_type": "code",
   "execution_count": 21,
   "metadata": {},
   "outputs": [],
   "source": [
    "cleanup_label_nums = {\"label\": {\"ham\": 0, \"spam\":1}} \n",
    "sms_data.replace(cleanup_label_nums, inplace=True)"
   ]
  },
  {
   "cell_type": "code",
   "execution_count": 22,
   "metadata": {},
   "outputs": [],
   "source": [
    "new_df_col = {'label':[], 'sms':[], 'sms_length':[]}"
   ]
  },
  {
   "cell_type": "code",
   "execution_count": 23,
   "metadata": {},
   "outputs": [],
   "source": [
    "new_sms_data = pd.DataFrame(data=new_df_col)"
   ]
  },
  {
   "cell_type": "code",
   "execution_count": 24,
   "metadata": {},
   "outputs": [],
   "source": [
    "for index, row in sms_data.iterrows():\n",
    "    row.sms = remove_punctuation(row['sms'])\n",
    "    new_sms_data = new_sms_data.append({'label': int(row.label), 'sms': row.sms, 'sms_length': int(row.sms_length)}, ignore_index=True)\n"
   ]
  },
  {
   "cell_type": "code",
   "execution_count": 25,
   "metadata": {},
   "outputs": [
    {
     "name": "stdout",
     "output_type": "stream",
     "text": [
      "      label                                                sms  sms_length\n",
      "0       0.0  go until jurong point crazy available only in ...       111.0\n",
      "1       0.0                            ok lar joking wif u oni        29.0\n",
      "2       1.0  free entry in 2 a wkly comp to win fa cup fina...       155.0\n",
      "3       0.0        u dun say so early hor u c already then say        49.0\n",
      "4       0.0  nah i dont think he goes to usf he lives aroun...        61.0\n",
      "...     ...                                                ...         ...\n",
      "5567    1.0  this is the 2nd time we have tried 2 contact u...       160.0\n",
      "5568    0.0                will ü b going to esplanade fr home        36.0\n",
      "5569    0.0  pity  was in mood for that soany other suggest...        57.0\n",
      "5570    0.0  the guy did some bitching but i acted like id ...       125.0\n",
      "5571    0.0                          rofl its true to its name        26.0\n",
      "\n",
      "[5572 rows x 3 columns]\n"
     ]
    }
   ],
   "source": [
    "new_sms_data['sms'] = new_sms_data['sms'].str.lower()\n",
    "print(new_sms_data)"
   ]
  },
  {
   "cell_type": "code",
   "execution_count": 26,
   "metadata": {},
   "outputs": [],
   "source": [
    "sms_spam_data = new_sms_data"
   ]
  },
  {
   "cell_type": "code",
   "execution_count": 27,
   "metadata": {},
   "outputs": [],
   "source": [
    "import warnings\n",
    "warnings.filterwarnings('ignore')"
   ]
  },
  {
   "cell_type": "markdown",
   "metadata": {},
   "source": [
    "### Split the data \n",
    "Split the data into training and testing set with 80% of the data for training. \n"
   ]
  },
  {
   "cell_type": "code",
   "execution_count": 28,
   "metadata": {},
   "outputs": [],
   "source": [
    "attributes = sms_spam_data.drop(\"label\", axis = 1)\n",
    "target = sms_spam_data.label"
   ]
  },
  {
   "cell_type": "code",
   "execution_count": 29,
   "metadata": {},
   "outputs": [],
   "source": [
    "sms_attributes_train, sms_attributes_test, sms_target_train, sms_target_test = train_test_split(sms_spam_data['sms'], \n",
    "                                                    sms_spam_data['label'], \n",
    "                                                    train_size = 0.80,\n",
    "                                                    random_state=0)"
   ]
  },
  {
   "cell_type": "code",
   "execution_count": 30,
   "metadata": {},
   "outputs": [
    {
     "name": "stdout",
     "output_type": "stream",
     "text": [
      "Train data distribution: \n",
      "0.0    0.868297\n",
      "1.0    0.131703\n",
      "Name: label, dtype: float64\n",
      "\n",
      "Test data distribution: \n",
      "0.0    0.856502\n",
      "1.0    0.143498\n",
      "Name: label, dtype: float64\n"
     ]
    }
   ],
   "source": [
    "# Split distribution\n",
    "print('Train data distribution: ')\n",
    "print(sms_target_train.value_counts(normalize=True))\n",
    "print(f'\\nTest data distribution: ')\n",
    "print(sms_target_test.value_counts(normalize=True))"
   ]
  },
  {
   "cell_type": "markdown",
   "metadata": {},
   "source": [
    "### Model Training"
   ]
  },
  {
   "cell_type": "code",
   "execution_count": 31,
   "metadata": {},
   "outputs": [],
   "source": [
    "def add_feature_in_matrix(X, feature_to_add):\n",
    "    return hstack([X, csr_matrix(feature_to_add).T], 'csr')"
   ]
  },
  {
   "cell_type": "markdown",
   "metadata": {},
   "source": [
    "#### Logistic Regression"
   ]
  },
  {
   "cell_type": "code",
   "execution_count": 32,
   "metadata": {},
   "outputs": [],
   "source": [
    "# vectorizer = TfidfVectorizer(min_df=5, ngram_range=[1,3])\n",
    "\n",
    "# sms_train_transformed = vectorizer.fit_transform(sms_attributes_train)\n",
    "# sms_train_transformed_with_length = add_feature_in_matrix(sms_train_transformed, [sms_attributes_train.str.len(),\n",
    "#                                                                     sms_attributes_train.apply(lambda x: len(''.join([a for a in x if a.isdigit()])))])\n",
    "\n",
    "vectorizer = TfidfVectorizer(min_df=5)\n",
    "\n",
    "sms_train_transformed = vectorizer.fit_transform(sms_attributes_train)\n",
    "sms_train_transformed_with_length = add_feature_in_matrix(sms_train_transformed, sms_attributes_train.str.len())\n",
    "\n",
    "\n",
    "sms_test_transformed = vectorizer.transform(sms_attributes_test)\n",
    "sms_test_transformed_with_length = add_feature_in_matrix(sms_test_transformed, [sms_attributes_test.str.len()])\n",
    "#                                                                  sms_attributes_test.apply(lambda x: len(''.join([a for a in x if a.isdigit()])))])\n",
    "\n",
    "logistic_reg_model = LogisticRegression(C=100)\n",
    "\n"
   ]
  },
  {
   "cell_type": "code",
   "execution_count": 33,
   "metadata": {},
   "outputs": [
    {
     "data": {
      "text/plain": [
       "LogisticRegression(C=100)"
      ]
     },
     "execution_count": 33,
     "metadata": {},
     "output_type": "execute_result"
    }
   ],
   "source": [
    "logistic_reg_model.fit(sms_train_transformed, sms_target_train)"
   ]
  },
  {
   "cell_type": "markdown",
   "metadata": {},
   "source": [
    "#### Logistic Regression Model Evaluation\n",
    "\n"
   ]
  },
  {
   "cell_type": "code",
   "execution_count": 34,
   "metadata": {},
   "outputs": [],
   "source": [
    "target_predicted = logistic_reg_model.predict(sms_test_transformed)"
   ]
  },
  {
   "cell_type": "code",
   "execution_count": 35,
   "metadata": {},
   "outputs": [
    {
     "name": "stdout",
     "output_type": "stream",
     "text": [
      "AUC score:  0.9562336387434555\n"
     ]
    }
   ],
   "source": [
    "logistic_regression_score = roc_auc_score(sms_target_test, target_predicted)\n",
    "print('AUC score: ', logistic_regression_score)"
   ]
  },
  {
   "cell_type": "code",
   "execution_count": 36,
   "metadata": {},
   "outputs": [
    {
     "name": "stdout",
     "output_type": "stream",
     "text": [
      "             Predicted Spam  Predicted Ham\n",
      "Actual Spam             949              6\n",
      "Actual Ham               13            147\n",
      "\n",
      "True Positives: 147\n",
      "False Positives: 6\n",
      "True Negatives: 949\n",
      "False Negatives: 13\n",
      "\n",
      "True Positive Rate: 0.91875\n",
      "\n",
      "True Negative Rate: 0.993717277486911\n",
      "False Positive Rate: 0.0062827225130890054\n"
     ]
    }
   ],
   "source": [
    "tn, fp, fn, tp = confusion_matrix(sms_target_test, target_predicted).ravel()\n",
    "print(pd.DataFrame(confusion_matrix(sms_target_test, target_predicted),\n",
    "             columns=['Predicted Spam', \"Predicted Ham\"], index=['Actual Spam', 'Actual Ham']))\n",
    "\n",
    "print(f'\\nTrue Positives: {tp}')\n",
    "print(f'False Positives: {fp}')\n",
    "print(f'True Negatives: {tn}')\n",
    "print(f'False Negatives: {fn}')\n",
    "\n",
    "\n",
    "print(f'\\nTrue Positive Rate: { (tp / (tp + fn))}')\n",
    "print(f'\\nTrue Negative Rate: { (tn / (tn + fp))}')\n",
    "print(f'False Positive Rate: { (fp / (fp + tn))}')"
   ]
  },
  {
   "cell_type": "code",
   "execution_count": 37,
   "metadata": {},
   "outputs": [
    {
     "data": {
      "image/png": "[encoded data removed]",
      "text/plain": [
       "<Figure size 432x288 with 2 Axes>"
      ]
     },
     "metadata": {
      "needs_background": "light"
     },
     "output_type": "display_data"
    }
   ],
   "source": [
    "plot_confusion_matrix(logistic_reg_model, sms_test_transformed, sms_target_test)  \n",
    "plt.show()  "
   ]
  },
  {
   "cell_type": "code",
   "execution_count": 38,
   "metadata": {},
   "outputs": [
    {
     "name": "stdout",
     "output_type": "stream",
     "text": [
      "\n",
      "True Positives: 147\n",
      "False Positives: 6\n",
      "True Negatives: 949\n",
      "False Negatives: 13\n"
     ]
    }
   ],
   "source": [
    "tn, fp, fn, tp = confusion_matrix(sms_target_test, logistic_reg_model.predict(sms_test_transformed)).ravel()\n",
    "print(f'\\nTrue Positives: {tp}')\n",
    "print(f'False Positives: {fp}')\n",
    "print(f'True Negatives: {tn}')\n",
    "print(f'False Negatives: {fn}')"
   ]
  },
  {
   "cell_type": "markdown",
   "metadata": {},
   "source": [
    "#### Decision Tree Modeling \n",
    " Choosing the best params using grid-search"
   ]
  },
  {
   "cell_type": "code",
   "execution_count": 39,
   "metadata": {},
   "outputs": [],
   "source": [
    "dec_tree_params = {\n",
    "    'max_depth':[None, 0, 10, 100],\n",
    "    'min_samples_split':[2,3,4,5,10,15,20,25,30,40,50]\n",
    "}\n",
    "\n",
    "dec_tree_grid_search = GridSearchCV(DecisionTreeClassifier(), dec_tree_params, cv=5, verbose=1)"
   ]
  },
  {
   "cell_type": "code",
   "execution_count": 40,
   "metadata": {},
   "outputs": [
    {
     "name": "stdout",
     "output_type": "stream",
     "text": [
      "Fitting 5 folds for each of 44 candidates, totalling 220 fits\n"
     ]
    },
    {
     "name": "stderr",
     "output_type": "stream",
     "text": [
      "[Parallel(n_jobs=1)]: Using backend SequentialBackend with 1 concurrent workers.\n",
      "[Parallel(n_jobs=1)]: Done 220 out of 220 | elapsed:   12.4s finished\n"
     ]
    },
    {
     "data": {
      "text/plain": [
       "GridSearchCV(cv=5, estimator=DecisionTreeClassifier(),\n",
       "             param_grid={'max_depth': [None, 0, 10, 100],\n",
       "                         'min_samples_split': [2, 3, 4, 5, 10, 15, 20, 25, 30,\n",
       "                                               40, 50]},\n",
       "             verbose=1)"
      ]
     },
     "execution_count": 40,
     "metadata": {},
     "output_type": "execute_result"
    }
   ],
   "source": [
    "dec_tree_grid_search.fit(sms_train_transformed_with_length, sms_target_train)"
   ]
  },
  {
   "cell_type": "code",
   "execution_count": 41,
   "metadata": {
    "scrolled": true
   },
   "outputs": [
    {
     "name": "stdout",
     "output_type": "stream",
     "text": [
      "DecisionTreeClassifier(min_samples_split=4)\n"
     ]
    }
   ],
   "source": [
    "grid_search_best = dec_tree_grid_search.best_estimator_\n",
    "print(grid_search_best)"
   ]
  },
  {
   "cell_type": "code",
   "execution_count": 42,
   "metadata": {},
   "outputs": [
    {
     "name": "stdout",
     "output_type": "stream",
     "text": [
      "Score:  0.9668161434977578\n"
     ]
    }
   ],
   "source": [
    "decision_tree_score = grid_search_best.score(sms_test_transformed_with_length, sms_target_test, sample_weight=None)\n",
    "print('Score: ', decision_tree_score)"
   ]
  },
  {
   "cell_type": "markdown",
   "metadata": {},
   "source": [
    "#### Multinomial Naive Bayes Classifier Model Model Training\n",
    "Let’s first try fitting a classic Multinomial Naive Bayes Classifier Model (MNNB), on X_train and Y_train."
   ]
  },
  {
   "cell_type": "code",
   "execution_count": 43,
   "metadata": {},
   "outputs": [],
   "source": [
    "vect = CountVectorizer().fit(sms_attributes_train)\n",
    "sms_attributes_train_vectorized = vect.transform(sms_attributes_train)\n",
    "\n",
    "# vect2 = CountVectorizer().fit(sms_attributes_test)\n",
    "sms_attributes_test_vectorized = vect.transform(sms_attributes_test)"
   ]
  },
  {
   "cell_type": "code",
   "execution_count": 44,
   "metadata": {},
   "outputs": [],
   "source": [
    "naive_bayes_model = MultinomialNB(alpha=0.1)"
   ]
  },
  {
   "cell_type": "code",
   "execution_count": 45,
   "metadata": {},
   "outputs": [],
   "source": [
    "model_fit = naive_bayes_model.fit(sms_attributes_train_vectorized, sms_target_train)"
   ]
  },
  {
   "cell_type": "markdown",
   "metadata": {},
   "source": [
    "#### MNNB Model Evaluation"
   ]
  },
  {
   "cell_type": "code",
   "execution_count": 46,
   "metadata": {},
   "outputs": [],
   "source": [
    "predictions = naive_bayes_model.predict(vect.transform(sms_attributes_test))"
   ]
  },
  {
   "cell_type": "code",
   "execution_count": 47,
   "metadata": {},
   "outputs": [
    {
     "name": "stdout",
     "output_type": "stream",
     "text": [
      "AUC score:  0.9656086387434555\n"
     ]
    }
   ],
   "source": [
    "naive_bayes_score = roc_auc_score(sms_target_test, predictions) \n",
    "print('AUC score: ', naive_bayes_score)"
   ]
  },
  {
   "cell_type": "code",
   "execution_count": 48,
   "metadata": {},
   "outputs": [
    {
     "data": {
      "image/png": "[encoded data removed]",
      "text/plain": [
       "<Figure size 432x288 with 1 Axes>"
      ]
     },
     "metadata": {
      "needs_background": "light"
     },
     "output_type": "display_data"
    }
   ],
   "source": [
    "plot_roc_curve(naive_bayes_model, sms_attributes_test_vectorized, sms_target_test) \n",
    "plt.show()"
   ]
  },
  {
   "cell_type": "code",
   "execution_count": 49,
   "metadata": {},
   "outputs": [
    {
     "data": {
      "image/png": "[encoded data removed]",
      "text/plain": [
       "<Figure size 432x288 with 2 Axes>"
      ]
     },
     "metadata": {
      "needs_background": "light"
     },
     "output_type": "display_data"
    }
   ],
   "source": [
    "plot_confusion_matrix(naive_bayes_model, sms_attributes_test_vectorized, sms_target_test)  \n",
    "plt.show()  "
   ]
  },
  {
   "cell_type": "code",
   "execution_count": 50,
   "metadata": {},
   "outputs": [
    {
     "name": "stdout",
     "output_type": "stream",
     "text": [
      "             Predicted Spam  Predicted Ham\n",
      "Actual Spam             949              6\n",
      "Actual Ham               10            150\n",
      "\n",
      "True Positives: 150\n",
      "False Positives: 6\n",
      "True Negatives: 949\n",
      "False Negatives: 10\n",
      "\n",
      "True Positive Rate: 0.9375\n",
      "True Negative Rate: 0.993717277486911\n",
      "False Positive Rate: 0.0062827225130890054\n"
     ]
    }
   ],
   "source": [
    "tn, fp, fn, tp = confusion_matrix(sms_target_test, predictions).ravel()\n",
    "print(pd.DataFrame(confusion_matrix(sms_target_test, predictions),\n",
    "             columns=['Predicted Spam', \"Predicted Ham\"], index=['Actual Spam', 'Actual Ham']))\n",
    "\n",
    "print(f'\\nTrue Positives: {tp}')\n",
    "print(f'False Positives: {fp}')\n",
    "print(f'True Negatives: {tn}')\n",
    "print(f'False Negatives: {fn}')\n",
    "\n",
    "print(f'\\nTrue Positive Rate: { (tp / (tp + fn))}')\n",
    "print(f'True Negative Rate: { (tn / (tn + fp))}')\n",
    "print(f'False Positive Rate: { (fp / (fp + tn))}')"
   ]
  },
  {
   "cell_type": "markdown",
   "metadata": {},
   "source": [
    "#### SVC Model Training"
   ]
  },
  {
   "cell_type": "code",
   "execution_count": 51,
   "metadata": {},
   "outputs": [],
   "source": [
    "#fit and transfor x_train and X_test\n",
    "vectorizer = TfidfVectorizer(min_df=5)\n",
    "\n",
    "sms_train_transformed = vectorizer.fit_transform(sms_attributes_train)\n",
    "sms_train_transformed_with_length = add_feature_in_matrix(sms_train_transformed, sms_attributes_train.str.len())"
   ]
  },
  {
   "cell_type": "code",
   "execution_count": 52,
   "metadata": {},
   "outputs": [],
   "source": [
    "sms_test_transformed = vectorizer.transform(sms_attributes_test)\n",
    "sms_test_transformed_with_length = add_feature_in_matrix(sms_test_transformed, sms_attributes_test.str.len())"
   ]
  },
  {
   "cell_type": "code",
   "execution_count": 53,
   "metadata": {},
   "outputs": [
    {
     "data": {
      "text/plain": [
       "SVC(C=1000)"
      ]
     },
     "execution_count": 53,
     "metadata": {},
     "output_type": "execute_result"
    }
   ],
   "source": [
    "# SVM creation\n",
    "svc_model = SVC(C=1000)\n",
    "\n",
    "svc_model.fit(sms_train_transformed_with_length, sms_target_train)"
   ]
  },
  {
   "cell_type": "markdown",
   "metadata": {},
   "source": [
    "#### SVC Model Evaluation"
   ]
  },
  {
   "cell_type": "code",
   "execution_count": 54,
   "metadata": {},
   "outputs": [],
   "source": [
    "target_predicted = svc_model.predict(sms_test_transformed_with_length)"
   ]
  },
  {
   "cell_type": "code",
   "execution_count": 55,
   "metadata": {},
   "outputs": [
    {
     "name": "stdout",
     "output_type": "stream",
     "text": [
      "SVM score:  0.9364528795811518\n"
     ]
    }
   ],
   "source": [
    "svm_score = roc_auc_score(sms_target_test, target_predicted)\n",
    "print('SVM score: ', svm_score)"
   ]
  },
  {
   "cell_type": "code",
   "execution_count": 56,
   "metadata": {},
   "outputs": [
    {
     "data": {
      "image/png": "[encoded data removed]",
      "text/plain": [
       "<Figure size 432x288 with 2 Axes>"
      ]
     },
     "metadata": {
      "needs_background": "light"
     },
     "output_type": "display_data"
    }
   ],
   "source": [
    "plot_confusion_matrix(svc_model, sms_test_transformed_with_length, sms_target_test)  \n",
    "plt.show()  "
   ]
  },
  {
   "cell_type": "code",
   "execution_count": 57,
   "metadata": {},
   "outputs": [
    {
     "name": "stdout",
     "output_type": "stream",
     "text": [
      "             Predicted Spam  Predicted Ham\n",
      "Actual Spam             953              2\n",
      "Actual Ham               20            140\n",
      "\n",
      "True Positives: 140\n",
      "False Positives: 2\n",
      "True Negatives: 953\n",
      "False Negatives: 20\n",
      "\n",
      "True Positive Rate: 0.875\n",
      "True Negative Rate: 0.9979057591623036\n",
      "False Positive Rate: 0.0020942408376963353\n"
     ]
    }
   ],
   "source": [
    "tn, fp, fn, tp = confusion_matrix(sms_target_test, target_predicted).ravel()\n",
    "print(pd.DataFrame(confusion_matrix(sms_target_test, target_predicted),\n",
    "             columns=['Predicted Spam', \"Predicted Ham\"], index=['Actual Spam', 'Actual Ham']))\n",
    "\n",
    "print(f'\\nTrue Positives: {tp}')\n",
    "print(f'False Positives: {fp}')\n",
    "print(f'True Negatives: {tn}')\n",
    "print(f'False Negatives: {fn}')\n",
    "\n",
    "\n",
    "print(f'\\nTrue Positive Rate: { (tp / (tp + fn))}')\n",
    "print(f'True Negative Rate: { (tn / (tn + fp))}')\n",
    "print(f'False Positive Rate: { (fp / (fp + tn))}')"
   ]
  },
  {
   "cell_type": "markdown",
   "metadata": {},
   "source": [
    "#### KNN Model Training"
   ]
  },
  {
   "cell_type": "code",
   "execution_count": 58,
   "metadata": {},
   "outputs": [],
   "source": [
    "knn_model = KNeighborsClassifier(n_neighbors=2)"
   ]
  },
  {
   "cell_type": "code",
   "execution_count": 59,
   "metadata": {},
   "outputs": [],
   "source": [
    "knn_grid_params = {\n",
    "    'n_neighbors': [2,5,10],\n",
    "    'weights': ['uniform', 'distance'],\n",
    "    'metric' : ['euclidian', 'manhattan']\n",
    "}"
   ]
  },
  {
   "cell_type": "code",
   "execution_count": 60,
   "metadata": {},
   "outputs": [],
   "source": [
    "knn_grid_search = GridSearchCV(KNeighborsClassifier(), knn_grid_params, cv=5, verbose=1)"
   ]
  },
  {
   "cell_type": "code",
   "execution_count": 61,
   "metadata": {},
   "outputs": [
    {
     "name": "stdout",
     "output_type": "stream",
     "text": [
      "Fitting 5 folds for each of 12 candidates, totalling 60 fits\n"
     ]
    },
    {
     "name": "stderr",
     "output_type": "stream",
     "text": [
      "[Parallel(n_jobs=1)]: Using backend SequentialBackend with 1 concurrent workers.\n",
      "[Parallel(n_jobs=1)]: Done  60 out of  60 | elapsed:    5.4s finished\n"
     ]
    },
    {
     "data": {
      "text/plain": [
       "GridSearchCV(cv=5, estimator=KNeighborsClassifier(),\n",
       "             param_grid={'metric': ['euclidian', 'manhattan'],\n",
       "                         'n_neighbors': [2, 5, 10],\n",
       "                         'weights': ['uniform', 'distance']},\n",
       "             verbose=1)"
      ]
     },
     "execution_count": 61,
     "metadata": {},
     "output_type": "execute_result"
    }
   ],
   "source": [
    "knn_grid_search.fit(sms_attributes_train_vectorized, sms_target_train)"
   ]
  },
  {
   "cell_type": "code",
   "execution_count": 62,
   "metadata": {
    "scrolled": true
   },
   "outputs": [
    {
     "name": "stdout",
     "output_type": "stream",
     "text": [
      "best estimator:  KNeighborsClassifier(metric='manhattan', n_neighbors=2, weights='distance')\n"
     ]
    }
   ],
   "source": [
    "knn_grid_search_best = knn_grid_search.best_estimator_\n",
    "print('best estimator: ', knn_grid_search_best)"
   ]
  },
  {
   "cell_type": "code",
   "execution_count": 63,
   "metadata": {},
   "outputs": [
    {
     "name": "stdout",
     "output_type": "stream",
     "text": [
      "Score:  0.957847533632287\n"
     ]
    }
   ],
   "source": [
    "knn_score = knn_grid_search_best.score(sms_attributes_test_vectorized, sms_target_test, sample_weight=None)\n",
    "print('Score: ', knn_score)"
   ]
  },
  {
   "cell_type": "markdown",
   "metadata": {},
   "source": [
    "### Model Comparison"
   ]
  },
  {
   "cell_type": "code",
   "execution_count": 64,
   "metadata": {},
   "outputs": [
    {
     "data": {
      "image/png": "[encoded data removed]",
      "text/plain": [
       "<Figure size 432x288 with 1 Axes>"
      ]
     },
     "metadata": {
      "needs_background": "light"
     },
     "output_type": "display_data"
    }
   ],
   "source": [
    "label = ['Logistic', 'MNNB', 'SVC', 'Decision Tree', 'KNN']\n",
    "score_list = [logistic_regression_score, naive_bayes_score, svm_score, decision_tree_score, knn_score]\n",
    "\n",
    "def plot_bar_x():\n",
    "    index = np.arange(len(label))\n",
    "    clrs = ['grey' if (x < max(score_list)) else 'red' for x in score_list ]\n",
    "    g=sea.barplot(x=index, y=score_list, palette=clrs) # color=clrs)   \n",
    "    plt.xlabel('Model type', fontsize=10)\n",
    "    plt.ylabel('AUC score', fontsize=10)\n",
    "    plt.xticks(index, label, fontsize=10, rotation=30)\n",
    "    plt.title('AUC score for each fitted model')\n",
    "    ax=g\n",
    "    for p in ax.patches:\n",
    "             ax.annotate(\"%.2f\" % p.get_height(), (p.get_x() + p.get_width() / 2., p.get_height()),\n",
    "                 ha='center', va='center', fontsize=11, color='gray', xytext=(0, 10),\n",
    "                 textcoords='offset points')\n",
    "    g.set_ylim(0,1.25) \n",
    "\n",
    "plot_bar_x()"
   ]
  },
  {
   "cell_type": "code",
   "execution_count": null,
   "metadata": {},
   "outputs": [],
   "source": []
  }
 ],
 "metadata": {
  "kernelspec": {
   "display_name": "Python 3",
   "language": "python",
   "name": "python3"
  },
  "language_info": {
   "codemirror_mode": {
    "name": "ipython",
    "version": 3
   },
   "file_extension": ".py",
   "mimetype": "text/x-python",
   "name": "python",
   "nbconvert_exporter": "python",
   "pygments_lexer": "ipython3",
   "version": "3.8.8"
  }
 },
 "nbformat": 4,
 "nbformat_minor": 4
}
